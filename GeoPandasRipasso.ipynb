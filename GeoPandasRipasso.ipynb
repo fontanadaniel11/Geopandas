{
  "nbformat": 4,
  "nbformat_minor": 0,
  "metadata": {
    "colab": {
      "provenance": [],
      "include_colab_link": true
    },
    "kernelspec": {
      "name": "python3",
      "display_name": "Python 3"
    },
    "language_info": {
      "name": "python"
    }
  },
  "cells": [
    {
      "cell_type": "markdown",
      "metadata": {
        "id": "view-in-github",
        "colab_type": "text"
      },
      "source": [
        "<a href=\"https://colab.research.google.com/github/fontanadaniel11/Geopandas/blob/main/GeoPandasRipasso.ipynb\" target=\"_parent\"><img src=\"https://colab.research.google.com/assets/colab-badge.svg\" alt=\"Open In Colab\"/></a>"
      ]
    },
    {
      "cell_type": "markdown",
      "source": [
        "installo geopandas"
      ],
      "metadata": {
        "id": "0aLfcCsJQtKO"
      }
    },
    {
      "cell_type": "code",
      "execution_count": null,
      "metadata": {
        "id": "Dua8ShOSQUNY"
      },
      "outputs": [],
      "source": [
        "!pip install geopandas"
      ]
    },
    {
      "cell_type": "markdown",
      "source": [
        "importo le librerie necessarie"
      ],
      "metadata": {
        "id": "pEy4zSPeQws_"
      }
    },
    {
      "cell_type": "code",
      "source": [
        "import pandas as pd\n",
        "import geopandas\n",
        "import matplotlib.pyplot as plt"
      ],
      "metadata": {
        "id": "Wsots6OqQy8_"
      },
      "execution_count": null,
      "outputs": []
    },
    {
      "cell_type": "markdown",
      "source": [
        "carico il primo geodataframe"
      ],
      "metadata": {
        "id": "N3WVRos6Q4x7"
      }
    },
    {
      "cell_type": "code",
      "source": [
        "countries = geopandas.read_file(\"https://github.com/jorisvandenbossche/geopandas-tutorial/blob/main/data/ne_110m_admin_0_countries.zip?raw=true\")"
      ],
      "metadata": {
        "id": "gLfByv9VQ8JU"
      },
      "execution_count": null,
      "outputs": []
    },
    {
      "cell_type": "markdown",
      "source": [
        "mostro il geodataframe"
      ],
      "metadata": {
        "id": "cMCG5B9QRAj0"
      }
    },
    {
      "cell_type": "code",
      "source": [
        "countries #in esso è contenuta una colonna di nome Geometry, poichè si tratta di un geodataframe"
      ],
      "metadata": {
        "id": "ceSD9bcOQ_3s"
      },
      "execution_count": null,
      "outputs": []
    },
    {
      "cell_type": "markdown",
      "source": [
        "lo mostro in forma di grafico"
      ],
      "metadata": {
        "id": "WD-plp9bRNZ0"
      }
    },
    {
      "cell_type": "code",
      "source": [
        "countries.plot(figsize = (15, 15)) #figsize: grandezza del grafico (della figura)"
      ],
      "metadata": {
        "id": "59u4VBjJRQTk"
      },
      "execution_count": null,
      "outputs": []
    },
    {
      "cell_type": "markdown",
      "source": [
        "mappa dell'asia"
      ],
      "metadata": {
        "id": "ID1Q8LTaS_tk"
      }
    },
    {
      "cell_type": "code",
      "source": [
        "asia = countries[countries[\"continent\"] == \"Asia\"]\n",
        "asia.plot()"
      ],
      "metadata": {
        "id": "VtPW5uYSTD2H"
      },
      "execution_count": null,
      "outputs": []
    },
    {
      "cell_type": "markdown",
      "source": [
        "area dell'asia"
      ],
      "metadata": {
        "id": "qJRcu3QyTWcY"
      }
    },
    {
      "cell_type": "code",
      "source": [
        "sum(asia.geometry.area) #mostra le aree in gradi quadrati"
      ],
      "metadata": {
        "id": "amq5KL2gTyyb"
      },
      "execution_count": null,
      "outputs": []
    },
    {
      "cell_type": "markdown",
      "source": [
        "#esercizio"
      ],
      "metadata": {
        "id": "bwJKw22FUQw0"
      }
    },
    {
      "cell_type": "markdown",
      "source": [
        "carico un file"
      ],
      "metadata": {
        "id": "CpKB2axpUkUc"
      }
    },
    {
      "cell_type": "code",
      "source": [
        "stations = geopandas.read_file(\"https://github.com/jorisvandenbossche/geopandas-tutorial/blob/main/data/paris_bike_stations_mercator.gpkg?raw=true\")\n",
        "stations #coordinate cartografiche (in metri). Prima c'è la longitudine e poi la latitudine"
      ],
      "metadata": {
        "id": "piEvc3e5Uiek"
      },
      "execution_count": null,
      "outputs": []
    },
    {
      "cell_type": "markdown",
      "source": [
        "mostro il crs (informazioni sulla colonna geometry)"
      ],
      "metadata": {
        "id": "g6o3eyE_VgCU"
      }
    },
    {
      "cell_type": "code",
      "source": [
        "stations.crs"
      ],
      "metadata": {
        "id": "z7QMHqPtVkjE"
      },
      "execution_count": null,
      "outputs": []
    },
    {
      "cell_type": "markdown",
      "source": [
        "mostro il grafico del geodataframe"
      ],
      "metadata": {
        "id": "ZY-l5H25Usd7"
      }
    },
    {
      "cell_type": "code",
      "source": [
        "stations.plot()"
      ],
      "metadata": {
        "id": "eMXgOdtIUxkj"
      },
      "execution_count": null,
      "outputs": []
    },
    {
      "cell_type": "markdown",
      "source": [
        "installo contextily (serve per caricare una mappa reale con sopra i punti)"
      ],
      "metadata": {
        "id": "buulnMQ0U-F7"
      }
    },
    {
      "cell_type": "code",
      "source": [
        "!pip install contextily"
      ],
      "metadata": {
        "id": "PzFYzxUpVFOT"
      },
      "execution_count": null,
      "outputs": []
    },
    {
      "cell_type": "code",
      "source": [
        "import contextily  #usa la rappresentazione di mercatore (epsg:3857)"
      ],
      "metadata": {
        "id": "GXBNJOFFVSkr"
      },
      "execution_count": null,
      "outputs": []
    },
    {
      "cell_type": "markdown",
      "source": [
        "mostro il grafico con la mappa"
      ],
      "metadata": {
        "id": "bDQjlYlUVVrN"
      }
    },
    {
      "cell_type": "code",
      "source": [
        "ax = stations.plot(figsize=(12,12), markersize=6) #markersize è la grandezza dei pallini\n",
        "contextily.add_basemap(ax)"
      ],
      "metadata": {
        "id": "_Zq6FMidVZQT"
      },
      "execution_count": null,
      "outputs": []
    },
    {
      "cell_type": "markdown",
      "source": [
        "mostro il grafico con la legenda"
      ],
      "metadata": {
        "id": "VDqqtuKsX1OM"
      }
    },
    {
      "cell_type": "code",
      "source": [
        "ax = stations.plot(figsize=(12,6), markersize=12, column=\"available_bikes\", legend = True, cmap=\"Reds\")    #mostra i pallini con colori diversi ina base al numero di biciclette presenti nella stazione\n",
        "contextily.add_basemap(ax)\n",
        "#cmap cambia il colore della legenda"
      ],
      "metadata": {
        "id": "kah-ZZ21YOoE"
      },
      "execution_count": null,
      "outputs": []
    },
    {
      "cell_type": "markdown",
      "source": [
        "carico un altro file"
      ],
      "metadata": {
        "id": "jUaopnEIcD_k"
      }
    },
    {
      "cell_type": "code",
      "source": [
        "districts = geopandas.read_file(\"https://raw.githubusercontent.com/jorisvandenbossche/geopandas-tutorial/main/data/paris_districts_utm.geojson\")\n",
        "districts"
      ],
      "metadata": {
        "id": "lFWO4DRscRZM"
      },
      "execution_count": null,
      "outputs": []
    },
    {
      "cell_type": "markdown",
      "source": [
        "mostro solo i bordi dei distretti"
      ],
      "metadata": {
        "id": "wzTmSpTocwtF"
      }
    },
    {
      "cell_type": "code",
      "source": [
        "districts.plot(figsize=(12,6), edgecolor= \"k\", facecolor = \"none\") #edgecolor: colore dei bordi. facecolor: colore dello sfondo"
      ],
      "metadata": {
        "id": "4DybPfO1czmk"
      },
      "execution_count": null,
      "outputs": []
    },
    {
      "cell_type": "markdown",
      "source": [
        "converto la rappresentazione della cartina in quella di mercatore (3857) per vedere i distretti correttamente su parigi"
      ],
      "metadata": {
        "id": "dwg3CwZ7fdkc"
      }
    },
    {
      "cell_type": "code",
      "source": [
        "districts_mercator = districts.to_crs(epsg=3857)"
      ],
      "metadata": {
        "id": "VPwjj3ybdKpM"
      },
      "execution_count": null,
      "outputs": []
    },
    {
      "cell_type": "code",
      "source": [
        "ax = districts_mercator.plot(figsize=(12,6), edgecolor= \"k\", facecolor = \"none\")\n",
        "contextily.add_basemap(ax)"
      ],
      "metadata": {
        "id": "wnrOG33idZMD"
      },
      "execution_count": null,
      "outputs": []
    }
  ]
}